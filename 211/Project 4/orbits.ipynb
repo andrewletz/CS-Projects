{
 "cells": [
  {
   "cell_type": "markdown",
   "metadata": {},
   "source": [
    "# <span style=\"color:teal;\">CIS 211 Project 4:  Orbits</span>"
   ]
  },
  {
   "cell_type": "markdown",
   "metadata": {},
   "source": [
    "##### Due 11:00 P.M. February 3, 2017"
   ]
  },
  {
   "cell_type": "markdown",
   "metadata": {},
   "source": [
    "##### Reading:  M&R 10.6.3"
   ]
  },
  {
   "cell_type": "markdown",
   "metadata": {},
   "source": [
    "###  <span style=\"color:teal\">Vector and Body Classes</span>"
   ]
  },
  {
   "cell_type": "markdown",
   "metadata": {},
   "source": [
    "This week's project will build on the Vector and Body classes from last week in order to create a complete simulation of the Solar System.  There are two ways to define these classes:  (1) copy your definitions from last week's project, or (2) download the instructor's solution from Canvas.\n",
    "\n",
    "Instructions for both methods are in the next two sections.  **Use either of these methods, but not both.**  \n",
    "\n",
    "Note: you will earn **extra credit points** if you use your own code."
   ]
  },
  {
   "cell_type": "markdown",
   "metadata": {},
   "source": [
    "####  <span style=\"color:teal\">Option 1: &nbsp; Use Your Own Classes</span>"
   ]
  },
  {
   "cell_type": "markdown",
   "metadata": {},
   "source": [
    "Choose this method only if your classes passed all the unit tests. Copy the complete Vector and Body class definitions from last week's notebook and paste them into the code cells below.  "
   ]
  },
  {
   "cell_type": "code",
   "execution_count": 1,
   "metadata": {
    "collapsed": true
   },
   "outputs": [],
   "source": [
    "from math import sqrt\n",
    "\n",
    "class Vector:\n",
    "    \"\"\"\n",
    "    A Vector is a 3-tuple of (x,y,z) coordinates.\n",
    "    \"\"\"\n",
    "    def __init__(self, x, y, z):\n",
    "        self._x = x\n",
    "        self._y = y\n",
    "        self._z = z\n",
    "    \n",
    "    def x(self):\n",
    "        return self._x\n",
    "    \n",
    "    def y(self):\n",
    "        return self._y\n",
    "\n",
    "    def z(self):\n",
    "        return self._z\n",
    "    \n",
    "    def __repr__(self):\n",
    "        return ('({:.3g},{:.3g},{:.3g})').format(self._x, self._y, self._z)\n",
    "    \n",
    "    def __eq__(self, other):\n",
    "        if (self._x, self._y, self._z) == (other.x(), other.y(), other.z()):\n",
    "            return True\n",
    "    \n",
    "    def __add__(self, other):\n",
    "        new_Vec = Vector((self._x + other.x()), (self._y + other.y()), (self._z + other.z()))\n",
    "        return new_Vec\n",
    "    \n",
    "    def __sub__(self, other):\n",
    "        return Vector((self._x - other.x()), (self._y - other.y()), (self._z - other.z()))\n",
    "        \n",
    "    def __mul__(self, other):\n",
    "        if isinstance(other, int) or isinstance(other, float):\n",
    "            return Vector(self._x * other, self._y * other, self._z * other)\n",
    "        \n",
    "    def norm(self):\n",
    "        return sqrt(self._x * self._x + self._y * self._y + self._z * self._z)\n",
    "        \n",
    "    def clear(self):\n",
    "        self._x = 0\n",
    "        self._y = 0\n",
    "        self._z = 0"
   ]
  },
  {
   "cell_type": "code",
   "execution_count": 2,
   "metadata": {
    "collapsed": true
   },
   "outputs": [],
   "source": [
    "G = 6.67E-11\n",
    "\n",
    "class Body:\n",
    "    \"\"\"\n",
    "    A Body object represents the state of a celestial body.  A body has mass \n",
    "    (a scalar), position (a vector), and velocity (a vector).  A third vector, \n",
    "    named force, is used when calculating forces acting on a body.  An\n",
    "    optional name can be attached to use in debugging.\n",
    "    \"\"\"\n",
    "    \n",
    "    def __init__(self, mass = 0, position = Vector(0,0,0), velocity = Vector(0,0,0), name = None):\n",
    "        \"\"\"\n",
    "        Create a new Body object with the specified mass (a scalar), position (a vector), \n",
    "        and velocity (another vector).  A fourth argument is an optional name for the body.\n",
    "       \"\"\"\n",
    "        self._mass = mass\n",
    "        self._position = position\n",
    "        self._velocity = velocity\n",
    "        self._force = Vector(0,0,0)\n",
    "        self._name = name\n",
    "\n",
    "    def __repr__(self):\n",
    "        if self._name != None:\n",
    "            return '{}: {:.3g}kg {} {}'.format(self._name, self._mass, str(self._position), str(self._velocity))\n",
    "        else:\n",
    "            return '{:.3g}kg {} {}'.format(self._mass, str(self._position), str(self._velocity))\n",
    "    \n",
    "    def name(self):\n",
    "        return self._name\n",
    "\n",
    "    def mass(self):\n",
    "        return self._mass\n",
    "\n",
    "    def position(self):\n",
    "        return self._position\n",
    "\n",
    "    def velocity(self):\n",
    "        return self._velocity\n",
    "\n",
    "    def force(self):\n",
    "        return self._force\n",
    "    \n",
    "    def direction(self, other):\n",
    "        return Vector((other.position().x() - self.position().x() if self.position().x() >= other.position().x() else other.position().x() - self.position().x()),\n",
    "                     (other.position().y() - self.position().y() if self.position().y() >= other.position().y() else other.position().y() - self.position().y()),\n",
    "                     (other.position().z() - self.position().z() if self.position().z() >= other.position().z() else other.position().z() - self.position().z()))\n",
    "    \n",
    "    def add_force(self, other):\n",
    "        d_vec = self.direction(other)\n",
    "        denom = d_vec.norm() * d_vec.norm() * d_vec.norm()\n",
    "        force = d_vec * (other.mass() / denom)\n",
    "        \n",
    "        self._force = self._force + force\n",
    "        \n",
    "    def clear_force(self):\n",
    "        self._force.clear()\n",
    "                \n",
    "    def move(self, dt):\n",
    "        accel = self._force * G\n",
    "        \n",
    "        self._velocity = self._velocity + accel * dt\n",
    "        \n",
    "        self._position = self._position + self._velocity * dt\n"
   ]
  },
  {
   "cell_type": "markdown",
   "metadata": {},
   "source": [
    "####  <span style=\"color:teal\">Option 2: &nbsp; Download a (`.pyc`) File from Canvas </span>"
   ]
  },
  {
   "cell_type": "markdown",
   "metadata": {},
   "source": [
    "If your classes did not pass all the unit tests you need to download a  \"compiled Python\" (`.pyc`) file from the Files section on Canvas.\n",
    "\n",
    "The file you need has a name that ends with `cpython-3x.pyc` where `x` is either 4 (for Python 3.4) or 5 (for Python 3.5). To see which version of Python you have, select About from Jupyter's Help menu.\n",
    "* it does not matter which OS you have, the `.pyc` files work for Mac, Windows, or Linux\n",
    "* if you need the `.pyc` file for Python 3.6 send e-mail to `cis211-help`\n",
    "\n",
    "Download one of the `Body.cpython-3x.pyc` files, rename it `Body.pyc`, and move it to the same folder as this notebook.  Then uncomment and execute the `import` command in the code cell below."
   ]
  },
  {
   "cell_type": "code",
   "execution_count": 3,
   "metadata": {
    "collapsed": false
   },
   "outputs": [],
   "source": [
    "#from Body import *"
   ]
  },
  {
   "cell_type": "markdown",
   "metadata": {},
   "source": [
    "###  <span style=\"color:teal\">Libraries</span>"
   ]
  },
  {
   "cell_type": "markdown",
   "metadata": {},
   "source": [
    "Execute the following code cell each time you open this notebook."
   ]
  },
  {
   "cell_type": "code",
   "execution_count": 4,
   "metadata": {
    "collapsed": true
   },
   "outputs": [],
   "source": [
    "from copy import deepcopy\n",
    "\n",
    "import numpy as np\n",
    "import matplotlib.pyplot as plt\n",
    "\n",
    "%matplotlib inline"
   ]
  },
  {
   "cell_type": "markdown",
   "metadata": {},
   "source": [
    "###  <span style=\"color:teal\">Solar System</span>"
   ]
  },
  {
   "cell_type": "markdown",
   "metadata": {},
   "source": [
    "Execute this code cell to create a list of Body objects for the sun and the 9 planets.  The positions and initial velocities are from a \"snapshot\" of the solar system from January 1, 1970.\n",
    "\n",
    "**Do not change this cell.** &nbsp; The autograder will use these Body objects to test your simulation."
   ]
  },
  {
   "cell_type": "code",
   "execution_count": 5,
   "metadata": {
    "collapsed": false
   },
   "outputs": [],
   "source": [
    "solar_system = [\n",
    "    Body(1.9891E+30,  Vector(0,0,0), Vector(0,0,0)),\n",
    "    Body(3.302E+23,   Vector(3.83713E+10,2.877025E+10,-1.175808E+09),    Vector(-38787.67,41093.05,6918.461)),\n",
    "    Body(4.8685E+24,  Vector(-5.377313E+09,-1.085956E+11,-1.164748E+09), Vector(34741.48,-1865.747,-2031.506)),\n",
    "    Body(5.9736E+24,  Vector(-2.700743E+10,1.446007E+11,9686451),        Vector(-29770.44,-5568.042,0.3961261)),\n",
    "    Body(6.4185E+23,  Vector(1.983825E+11,7.422924E+10,-3.334841E+09),   Vector(-7557.626,24761.27,704.7457)),\n",
    "    Body(1.89813E+27, Vector(-7.496502E+11,-3.201711E+11,1.811155E+10),  Vector(4982.522,-11417.83,-64.66531)),\n",
    "    Body(5.68319E+26, Vector(1.082806E+12,8.510841E+11,-5.793461E+10),   Vector(-6487.118,7565.952,125.4422)),\n",
    "    Body(8.68103E+25, Vector(-2.724616E+12,-2.894003E+11,3.428801E+10),  Vector(671.3469,-7099.093,-35.04028)),\n",
    "    Body(1.0241E+26,  Vector(-2.328072E+12,-3.891086E+12,1.337436E+11),  Vector(4633.961,-2767.423,-49.57268)),\n",
    "    Body(1.314E+22,   Vector(-4.551135E+12,3.175277E+11,1.282177E+12),   Vector(635.998,-5762.115,440.8821))\n",
    "]"
   ]
  },
  {
   "cell_type": "markdown",
   "metadata": {},
   "source": [
    "###  <span style=\"color:teal\">Part 1: &nbsp; Draw Concentric Circles (25 points)</span>"
   ]
  },
  {
   "cell_type": "markdown",
   "metadata": {
    "collapsed": true
   },
   "source": [
    "Fill in the body of the function definition below so it draws a set of concentric circles.  Each circle will actually be a sequence of connected line segments drawn by a call to the `plot` function.  The parameters are:\n",
    "* the number of circles to draw\n",
    "* the diameter of the innermost circle\n",
    "* the diameter of the outermost circle\n",
    "* the number of line segments in each circle\n",
    "\n",
    "Use the inner and outer diameters to compute euqally spaced diameters for the other circles.  For example, if the call is\n",
    "```\n",
    ">>> concentric(ncircles=5, inner=5, outer=9)\n",
    "```\n",
    "the function should draw circles with diameters 5, 6, 7, 8, and 9."
   ]
  },
  {
   "cell_type": "markdown",
   "metadata": {},
   "source": [
    "####  <span style=\"color:teal\">Hint </span>"
   ]
  },
  {
   "cell_type": "markdown",
   "metadata": {},
   "source": [
    "For a circle with radius $r$ the $(x,y)$ coordinates of the point at  angle $\\alpha$ are $x = r \\cos \\alpha$ and $y = r \\sin \\alpha$.\n",
    "\n",
    "![circle](http://pages.uoregon.edu/conery/CIS211/Orbits/circle.png)"
   ]
  },
  {
   "cell_type": "markdown",
   "metadata": {},
   "source": [
    "The following expressions will create lists of $x$ and $y$ coordinates for $n$ equally spaced points around the perimeter of a circle with radius 1."
   ]
  },
  {
   "cell_type": "code",
   "execution_count": 6,
   "metadata": {
    "collapsed": true
   },
   "outputs": [],
   "source": [
    "from math import pi as π, sin, cos"
   ]
  },
  {
   "cell_type": "code",
   "execution_count": 7,
   "metadata": {
    "collapsed": false
   },
   "outputs": [],
   "source": [
    "n = 15\n",
    "x = [ 2* cos(2*π*i/n) for i in range(n+1) ]\n",
    "y = [ 2* sin(2*π*i/n) for i in range(n+1) ]"
   ]
  },
  {
   "cell_type": "markdown",
   "metadata": {
    "collapsed": false
   },
   "source": [
    "**Note:** &nbsp; These lists have $n+1$ values so the last line segment \"completes the circle\" and connects back to the starting point."
   ]
  },
  {
   "cell_type": "markdown",
   "metadata": {},
   "source": [
    "##### <span style=\"color:red\">Code:</span>"
   ]
  },
  {
   "cell_type": "code",
   "execution_count": 8,
   "metadata": {
    "collapsed": true
   },
   "outputs": [],
   "source": [
    "def circle_pts(radius, seg):\n",
    "        x = [ radius * cos(2*π*i/seg) for i in range(seg+1) ]\n",
    "        y = [ radius * sin(2*π*i/seg) for i in range(seg+1) ]\n",
    "        \n",
    "        return x,y"
   ]
  },
  {
   "cell_type": "code",
   "execution_count": 9,
   "metadata": {
    "collapsed": false,
    "deletable": false,
    "nbgrader": {
     "checksum": "129bab7a6b783e20af3c6229376c69f3",
     "grade": true,
     "grade_id": "concentric",
     "locked": false,
     "points": 10,
     "solution": true
    }
   },
   "outputs": [],
   "source": [
    "def concentric(ncircles=3, inner=1, outer=2, nsegs=30):\n",
    "    step = round((outer - inner) / ncircles)\n",
    "    circle_rads = [i for i in np.linspace(inner, outer, ncircles)]\n",
    "    \n",
    "    plt.plot(*circle_pts(inner, nsegs))\n",
    "    plt.plot(*circle_pts(outer, nsegs))\n",
    "    \n",
    "    for i in range(ncircles - 1):\n",
    "        plt.plot(*circle_pts(circle_rads[i + 1], nsegs))"
   ]
  },
  {
   "cell_type": "markdown",
   "metadata": {},
   "source": [
    "##### <span style=\"color:red\">Tests:</span>"
   ]
  },
  {
   "cell_type": "markdown",
   "metadata": {
    "nbgrader": {
     "grade": false,
     "locked": false,
     "points": 30,
     "solution": false
    }
   },
   "source": [
    "Use the following code cell as a \"sandbox\" if you want to do your own tests.  You can add additional cells here if you want."
   ]
  },
  {
   "cell_type": "code",
   "execution_count": null,
   "metadata": {
    "collapsed": false
   },
   "outputs": [],
   "source": []
  },
  {
   "cell_type": "markdown",
   "metadata": {},
   "source": [
    "##### <span style=\"color:red\">Autograder Tests:</span>"
   ]
  },
  {
   "cell_type": "markdown",
   "metadata": {},
   "source": [
    "The autograder cells use a different strategy for this part of the project.  The autograder will just make sure your function does not crash.  The human grader will look at the drawing to assign points for correctness."
   ]
  },
  {
   "cell_type": "code",
   "execution_count": 10,
   "metadata": {
    "collapsed": false,
    "deletable": false,
    "nbgrader": {
     "checksum": "943c5e283e2b95713a55eb44cef86c0c",
     "grade": true,
     "grade_id": "hexagons",
     "locked": true,
     "points": 5,
     "solution": false
    }
   },
   "outputs": [
    {
     "data": {
      "image/png": "[encoded data removed]",
      "text/plain": [
       "<matplotlib.figure.Figure at 0x74c6668>"
      ]
     },
     "metadata": {},
     "output_type": "display_data"
    }
   ],
   "source": [
    "concentric(ncircles=3, inner=2, outer=10, nsegs=6)"
   ]
  },
  {
   "cell_type": "code",
   "execution_count": 11,
   "metadata": {
    "collapsed": false,
    "deletable": false,
    "nbgrader": {
     "checksum": "dee3b49a209cb4572dd76ab134be94b5",
     "grade": true,
     "grade_id": "circles",
     "locked": true,
     "points": 5,
     "solution": false
    }
   },
   "outputs": [
    {
     "data": {
      "image/png": "[encoded data removed]",
      "text/plain": [
       "<matplotlib.figure.Figure at 0x74955f8>"
      ]
     },
     "metadata": {},
     "output_type": "display_data"
    }
   ],
   "source": [
    "concentric(ncircles=5)"
   ]
  },
  {
   "cell_type": "markdown",
   "metadata": {},
   "source": [
    "##### <span style=\"color:red\">Documentation:</span>"
   ]
  },
  {
   "cell_type": "markdown",
   "metadata": {
    "deletable": false,
    "nbgrader": {
     "checksum": "c5d0c1418313933d3f8e2c02f7ae183f",
     "grade": true,
     "grade_id": "doc_1",
     "locked": false,
     "points": 5,
     "solution": true
    }
   },
   "source": [
    "Plots n circles of interpolating radius size. Sizes are determined by inner and outer circle sizes who are passed in as the second and third arguments. Final (fourth) argument determines how many segments are used to draw the circle.\n",
    "\n",
    "Cool things:\n",
    "- uses Python's * tool to pass a tuple as two separate arguments at once into the \"circle_pts\" helper method\n",
    "- uses numpy's linspace() function in order to find interpolating values"
   ]
  },
  {
   "cell_type": "markdown",
   "metadata": {
    "collapsed": true
   },
   "source": [
    "###  <span style=\"color:teal\">Part 2: &nbsp; Solar System (40 points)</span>"
   ]
  },
  {
   "cell_type": "markdown",
   "metadata": {},
   "source": [
    "To run the full N-body simulation we need to calculate all pairwise interactions between the bodies.  On each time step, first update each body's force vector:\n",
    "```\n",
    "for i = 0 to n-1:\n",
    "  for j = 0 to n-1:\n",
    "    if i != j:\n",
    "      add the force of body j to body i's force vector\n",
    "```\n",
    "Now uses the accumulated forces to move each body and clear the force vector so it's ready for the next time step:\n",
    "```\n",
    "for i = 0 to n-1:\n",
    "   move body i\n",
    "   clear forces on body i\n",
    "```\n",
    "\n",
    "Fill in the body of the function named `step_system`.  The arguments to this function are\n",
    "* a list of Body objects\n",
    "* a time step size (default 86459, the number of seconds in 1/365 of a year)\n",
    "* the number of time steps to simulate (default 1)\n",
    "\n",
    "The return value should be a list of orbits.  If there are $n$ bodies passed to the function, the output will be a list of $n$ sequences containing the $(x,y)$ coordinates of each body at each time step.\n",
    "\n",
    "For example, to simulate one year of the solar system, using the list of Body object defined above:\n",
    "```\n",
    "orbits = step_system(solar_system, nsteps=365)\n",
    "```\n",
    "The output will be a list of 10 lists:\n",
    "```\n",
    "[ \n",
    "  [(sx0,sy0), (sx1,sy1), (sx2,sy2), ...],\n",
    "  [(mx0,my0), (mx1,my1), (mx2,my2), ...],\n",
    "  ...\n",
    "  [(px0,py0), (px1,py1), (px2,py2), ...]\n",
    "]\n",
    "```\n",
    "where `sx` and `sy` are the $x$ and $y$ coordinates of the first body (the Sun), `mx` and `my` are the coordinates of the second body (Mercury), _etc_."
   ]
  },
  {
   "cell_type": "markdown",
   "metadata": {},
   "source": [
    "**Note** &nbsp; Each time you call your `step_system` function it's going to change the position vectors in the Body objects.  To make sure you have a \"clean copy\" each time you test your code either go back and re-execute the cell that defines the solar system or make a copy of the solar system to use in your test:\n",
    "```\n",
    "ss = deepcopy(solar_system)\n",
    "```"
   ]
  },
  {
   "cell_type": "markdown",
   "metadata": {},
   "source": [
    "##### <span style=\"color:red\">Code:</span>"
   ]
  },
  {
   "cell_type": "code",
   "execution_count": 12,
   "metadata": {
    "collapsed": false,
    "deletable": false,
    "nbgrader": {
     "checksum": "3bce985d7b7d8373e4cf0cc023dd97f3",
     "grade": true,
     "grade_id": "step_system",
     "locked": false,
     "points": 20,
     "solution": true
    }
   },
   "outputs": [],
   "source": [
    "def step_system(bodies, dt=86459, nsteps=1):\n",
    "    orbits = [list() for i in range(len(bodies))] # n empty lists where n = bodies\n",
    "    for i in range(nsteps):\n",
    "        for topbody in bodies:\n",
    "            for body in bodies:\n",
    "                if topbody != body:\n",
    "                    topbody.add_force(body)\n",
    "        for idx,body in enumerate(bodies):\n",
    "            body.move(dt)\n",
    "            body.clear_force()\n",
    "            pos = body.position().x(), body.position().y()\n",
    "            orbits[idx].append(pos)\n",
    "            \n",
    "    return orbits"
   ]
  },
  {
   "cell_type": "markdown",
   "metadata": {},
   "source": [
    "##### <span style=\"color:red\">Tests:</span>"
   ]
  },
  {
   "cell_type": "markdown",
   "metadata": {},
   "source": [
    "Use the following code cell as a \"sandbox\" if you want to do your own tests.  You can add additional cells here if you want."
   ]
  },
  {
   "cell_type": "code",
   "execution_count": null,
   "metadata": {
    "collapsed": false
   },
   "outputs": [],
   "source": []
  },
  {
   "cell_type": "markdown",
   "metadata": {},
   "source": [
    "##### <span style=\"color:red\">Autograder Tests:</span>"
   ]
  },
  {
   "cell_type": "markdown",
   "metadata": {
    "collapsed": false
   },
   "source": [
    "Test 1:  Run the simulation for 5 time steps.  The return value should be a list of 10 orbits, and each orbit should have 5 pairs."
   ]
  },
  {
   "cell_type": "code",
   "execution_count": 13,
   "metadata": {
    "collapsed": false,
    "deletable": false,
    "nbgrader": {
     "checksum": "fde66098436741a815e597eaa4d13053",
     "grade": true,
     "grade_id": "orbits",
     "locked": true,
     "points": 5,
     "solution": false
    }
   },
   "outputs": [],
   "source": [
    "ss = deepcopy(solar_system)\n",
    "orbits = step_system(ss, nsteps=5, dt=86400)\n",
    "\n",
    "assert isinstance(orbits,list)\n",
    "assert len(orbits) == 10\n",
    "assert sum([len(x) for x in orbits]) == 50"
   ]
  },
  {
   "cell_type": "markdown",
   "metadata": {
    "collapsed": false
   },
   "source": [
    "Test 2:  Run the simulation long enough for Mercury to make one full orbit (about 88 Earth days), see if it's close to where it started."
   ]
  },
  {
   "cell_type": "code",
   "execution_count": 14,
   "metadata": {
    "collapsed": false,
    "deletable": false,
    "nbgrader": {
     "checksum": "128bedf9798dbeac328b97aedd60307a",
     "grade": true,
     "grade_id": "mercury",
     "locked": true,
     "points": 5,
     "solution": false
    }
   },
   "outputs": [],
   "source": [
    "ss = deepcopy(solar_system)\n",
    "start = deepcopy(ss[1].position())            # Mercury's starting position\n",
    "step_system(ss, nsteps=1000, dt=7600.5216)\n",
    "stop = ss[1].position()                       # Mercury's final position\n",
    "\n",
    "assert (stop-start).norm() < 1e10"
   ]
  },
  {
   "cell_type": "markdown",
   "metadata": {},
   "source": [
    "##### <span style=\"color:red\">Documentation:</span>"
   ]
  },
  {
   "cell_type": "markdown",
   "metadata": {
    "deletable": false,
    "nbgrader": {
     "checksum": "60009593bb2ea1b8f502e4c248cfff4e",
     "grade": true,
     "grade_id": "doc_2",
     "locked": false,
     "points": 10,
     "solution": true
    }
   },
   "source": [
    "Using the previously defined Body and Vector classes, a semi-comprehensive solar system simulation is made possible. The step_system function takes a list of bodies, a time step size (to be used when calculating movements in the body class) and a number of times to run this time step (compounding on top of each previous calculation).\n",
    "\n",
    "Returns a list of lists, where each list contains the positions of a singular body at each timestep (ie, orbits[0][24] would return the 25th time step location of the first planet in the returned \"orbits\" list).\n",
    "\n",
    "Cool stuff:\n",
    "- Utilizes the Python enumerate() function in a for loop"
   ]
  },
  {
   "cell_type": "markdown",
   "metadata": {
    "collapsed": true
   },
   "source": [
    "###  <span style=\"color:teal\">Part 3: &nbsp; Plotting Orbits (35 points)</span>"
   ]
  },
  {
   "cell_type": "markdown",
   "metadata": {},
   "source": [
    "Complete the definition of the `plot_orbits` function below.  The first four lines will run the simulation, using your `step_system` function, and figure out how many orbits to plot.  You need to fill in the rest:  extract the $x$ and $y$ coordinates from the list returned by `step_system` and plot the orbits."
   ]
  },
  {
   "cell_type": "markdown",
   "metadata": {},
   "source": [
    "##### <span style=\"color:red\">Code:</span>"
   ]
  },
  {
   "cell_type": "code",
   "execution_count": 15,
   "metadata": {
    "collapsed": true,
    "deletable": false,
    "nbgrader": {
     "checksum": "0ce7c4e068117775cd3f523aed0734d6",
     "grade": true,
     "grade_id": "plot_orbits",
     "locked": false,
     "points": 20,
     "solution": true
    }
   },
   "outputs": [],
   "source": [
    "def plot_orbits(bodies, ndays = 365, nplanets=None):\n",
    "    bodies = deepcopy(bodies)\n",
    "    orbits = step_system(bodies, nsteps=ndays)\n",
    "    if nplanets is None:\n",
    "        nplanets = len(bodies)\n",
    "\n",
    "    for planet in orbits: # First level of lists\n",
    "        xcoords = []\n",
    "        ycoords = []\n",
    "        for xy in planet:\n",
    "            xcoords.append(xy[0])\n",
    "            ycoords.append(xy[1])\n",
    "        plt.plot(xcoords, ycoords)"
   ]
  },
  {
   "cell_type": "markdown",
   "metadata": {},
   "source": [
    "##### <span style=\"color:red\">Tests:</span>"
   ]
  },
  {
   "cell_type": "markdown",
   "metadata": {
    "nbgrader": {
     "grade": false,
     "locked": false,
     "points": 30,
     "solution": false
    }
   },
   "source": [
    "Use the following code cell as a \"sandbox\" if you want to do your own tests.  You can add additional cells here if you want."
   ]
  },
  {
   "cell_type": "code",
   "execution_count": null,
   "metadata": {
    "collapsed": false
   },
   "outputs": [],
   "source": []
  },
  {
   "cell_type": "markdown",
   "metadata": {},
   "source": [
    "##### <span style=\"color:red\">Autograder Tests:</span>"
   ]
  },
  {
   "cell_type": "markdown",
   "metadata": {},
   "source": [
    "The autograder will call your `plot_orbits` function, the human grader will assign points based on the plot."
   ]
  },
  {
   "cell_type": "code",
   "execution_count": 16,
   "metadata": {
    "collapsed": false,
    "deletable": false,
    "nbgrader": {
     "checksum": "c7bc334d6e396047adc22f11d139451a",
     "grade": true,
     "grade_id": "orbit_test",
     "locked": true,
     "points": 5,
     "solution": false
    }
   },
   "outputs": [
    {
     "data": {
      "image/png": "[encoded data removed]",
      "text/plain": [
       "<matplotlib.figure.Figure at 0x7cb6828>"
      ]
     },
     "metadata": {},
     "output_type": "display_data"
    }
   ],
   "source": [
    "plot_orbits(solar_system, nplanets=5)"
   ]
  },
  {
   "cell_type": "markdown",
   "metadata": {},
   "source": [
    "##### <span style=\"color:red\">Documentation:</span>"
   ]
  },
  {
   "cell_type": "markdown",
   "metadata": {
    "deletable": false,
    "nbgrader": {
     "checksum": "3e0fe3aaa4b312a8077ba3a64115bf13",
     "grade": true,
     "grade_id": "doc_3",
     "locked": false,
     "points": 10,
     "solution": true
    }
   },
   "source": [
    "plot_orbits plots a view of a given system of bodies over ndays (passed in as second argument).\n",
    "Depends on:\n",
    "- Body and Vector classes\n",
    "- step_system function"
   ]
  }
 ],
 "metadata": {
  "anaconda-cloud": {},
  "kernelspec": {
   "display_name": "Python [default]",
   "language": "python",
   "name": "python3"
  },
  "language_info": {
   "codemirror_mode": {
    "name": "ipython",
    "version": 3
   },
   "file_extension": ".py",
   "mimetype": "text/x-python",
   "name": "python",
   "nbconvert_exporter": "python",
   "pygments_lexer": "ipython3",
   "version": "3.5.2"
  }
 },
 "nbformat": 4,
 "nbformat_minor": 0
}
